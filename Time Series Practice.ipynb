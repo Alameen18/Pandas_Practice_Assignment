{
 "cells": [
  {
   "cell_type": "code",
   "execution_count": 1,
   "metadata": {},
   "outputs": [],
   "source": [
    "import numpy as np\n",
    "import pandas as pd\n",
    "from datetime import datetime"
   ]
  },
  {
   "cell_type": "code",
   "execution_count": 2,
   "metadata": {},
   "outputs": [
    {
     "data": {
      "text/plain": [
       "datetime.datetime(2022, 2, 10, 0, 0)"
      ]
     },
     "execution_count": 2,
     "metadata": {},
     "output_type": "execute_result"
    }
   ],
   "source": [
    "datetime(2022,2,10)"
   ]
  },
  {
   "cell_type": "code",
   "execution_count": 3,
   "metadata": {},
   "outputs": [
    {
     "data": {
      "text/plain": [
       "datetime.datetime(2023, 11, 1, 18, 31, 48, 613233)"
      ]
     },
     "execution_count": 3,
     "metadata": {},
     "output_type": "execute_result"
    }
   ],
   "source": [
    "datetime.now()"
   ]
  },
  {
   "cell_type": "code",
   "execution_count": 14,
   "metadata": {},
   "outputs": [
    {
     "data": {
      "text/plain": [
       "datetime.time(18, 42, 35, 874654)"
      ]
     },
     "execution_count": 14,
     "metadata": {},
     "output_type": "execute_result"
    }
   ],
   "source": [
    "datetime.now().time()"
   ]
  },
  {
   "cell_type": "code",
   "execution_count": 21,
   "metadata": {},
   "outputs": [
    {
     "data": {
      "text/plain": [
       "Timestamp('2022-10-12 23:10:00')"
      ]
     },
     "execution_count": 21,
     "metadata": {},
     "output_type": "execute_result"
    }
   ],
   "source": [
    "a1 = pd.Timestamp('2022-10-12 23:10')\n",
    "a1"
   ]
  },
  {
   "cell_type": "code",
   "execution_count": 22,
   "metadata": {},
   "outputs": [
    {
     "data": {
      "text/plain": [
       "datetime.time(23, 10)"
      ]
     },
     "execution_count": 22,
     "metadata": {},
     "output_type": "execute_result"
    }
   ],
   "source": [
    "a1.time()"
   ]
  },
  {
   "cell_type": "code",
   "execution_count": 31,
   "metadata": {},
   "outputs": [
    {
     "data": {
      "text/plain": [
       "Timestamp('2023-11-04 18:56:00.426741')"
      ]
     },
     "execution_count": 31,
     "metadata": {},
     "output_type": "execute_result"
    }
   ],
   "source": [
    "today = pd.Timestamp('now')\n",
    "tomorrow = today + pd.Timedelta(days = 3)\n",
    "tomorrow"
   ]
  },
  {
   "cell_type": "code",
   "execution_count": 37,
   "metadata": {},
   "outputs": [
    {
     "data": {
      "text/plain": [
       "2022-10-11    1.780672\n",
       "2022-10-12   -0.258597\n",
       "dtype: float64"
      ]
     },
     "execution_count": 37,
     "metadata": {},
     "output_type": "execute_result"
    }
   ],
   "source": [
    "np.random.seed(34134)\n",
    "a = [datetime(2022,10,11), datetime(2022,10,12)]\n",
    "b = pd.Series(np.random.randn(2),a)\n",
    "b"
   ]
  },
  {
   "cell_type": "code",
   "execution_count": 38,
   "metadata": {},
   "outputs": [
    {
     "data": {
      "text/plain": [
       "DatetimeIndex(['2022-10-11', '2022-10-12'], dtype='datetime64[ns]', freq=None)"
      ]
     },
     "execution_count": 38,
     "metadata": {},
     "output_type": "execute_result"
    }
   ],
   "source": [
    "b.index"
   ]
  },
  {
   "cell_type": "code",
   "execution_count": 47,
   "metadata": {},
   "outputs": [
    {
     "data": {
      "text/plain": [
       "2022-01-01   -0.747484\n",
       "2022-01-02   -0.905925\n",
       "2022-01-03    1.000852\n",
       "NaT          -0.104304\n",
       "dtype: float64"
      ]
     },
     "execution_count": 47,
     "metadata": {},
     "output_type": "execute_result"
    }
   ],
   "source": [
    "ab = pd.to_datetime(['2022-1-1','2022-1-2','2022-1-3',None])\n",
    "b = pd.Series(np.random.randn(4),ab)\n",
    "b"
   ]
  },
  {
   "cell_type": "code",
   "execution_count": 51,
   "metadata": {},
   "outputs": [
    {
     "name": "stdout",
     "output_type": "stream",
     "text": [
      "2022-01-01 00:00:00\n",
      "2022-01-02 00:00:00\n",
      "2022-01-03 00:00:00\n",
      "NaT\n"
     ]
    }
   ],
   "source": [
    "for i in ab:\n",
    "    print(i)"
   ]
  },
  {
   "cell_type": "code",
   "execution_count": 71,
   "metadata": {},
   "outputs": [
    {
     "data": {
      "text/plain": [
       "2022-01-01   -0.557021\n",
       "2022-01-02   -0.853464\n",
       "2022-01-03    0.853892\n",
       "2022-01-04    1.212533\n",
       "2022-01-05    0.312699\n",
       "2022-01-06    0.829892\n",
       "2022-01-07   -0.562968\n",
       "2022-01-08    0.338899\n",
       "2022-01-09    0.896360\n",
       "2022-01-10   -0.689030\n",
       "Freq: D, dtype: float64"
      ]
     },
     "execution_count": 71,
     "metadata": {},
     "output_type": "execute_result"
    }
   ],
   "source": [
    "period = pd.date_range('2022-1-1', periods= 10)\n",
    "abc = pd.Series(np.random.randn(10), period)\n",
    "abc"
   ]
  },
  {
   "cell_type": "code",
   "execution_count": 84,
   "metadata": {},
   "outputs": [
    {
     "data": {
      "text/plain": [
       "2022-01-04    1.212533\n",
       "2022-01-05    0.312699\n",
       "2022-01-06    0.829892\n",
       "2022-01-07   -0.562968\n",
       "Freq: D, dtype: float64"
      ]
     },
     "execution_count": 84,
     "metadata": {},
     "output_type": "execute_result"
    }
   ],
   "source": [
    "subset = abc[3:7]\n",
    "subset"
   ]
  },
  {
   "cell_type": "code",
   "execution_count": 86,
   "metadata": {},
   "outputs": [
    {
     "data": {
      "text/plain": [
       "2022-01-04       10\n",
       "2022-01-05      100\n",
       "2022-01-06     1000\n",
       "2022-01-07    10000\n",
       "Freq: D, dtype: int64"
      ]
     },
     "execution_count": 86,
     "metadata": {},
     "output_type": "execute_result"
    }
   ],
   "source": [
    "s2 = pd.Series([10,100,1000,10000] , subset.index)\n",
    "s2"
   ]
  },
  {
   "cell_type": "code",
   "execution_count": 88,
   "metadata": {},
   "outputs": [
    {
     "data": {
      "text/plain": [
       "2022-01-01            NaN\n",
       "2022-01-02            NaN\n",
       "2022-01-03            NaN\n",
       "2022-01-04      11.212533\n",
       "2022-01-05     100.312699\n",
       "2022-01-06    1000.829892\n",
       "2022-01-07    9999.437032\n",
       "2022-01-08            NaN\n",
       "2022-01-09            NaN\n",
       "2022-01-10            NaN\n",
       "Freq: D, dtype: float64"
      ]
     },
     "execution_count": 88,
     "metadata": {},
     "output_type": "execute_result"
    }
   ],
   "source": [
    "abc+ s2"
   ]
  },
  {
   "cell_type": "code",
   "execution_count": 90,
   "metadata": {},
   "outputs": [
    {
     "data": {
      "text/plain": [
       "2013-01-01    0\n",
       "2013-01-02    0\n",
       "2013-01-03    0\n",
       "2013-01-04    0\n",
       "2013-01-05    0\n",
       "             ..\n",
       "2014-12-27    0\n",
       "2014-12-28    0\n",
       "2014-12-29    0\n",
       "2014-12-30    0\n",
       "2014-12-31    0\n",
       "Freq: D, Length: 730, dtype: int64"
      ]
     },
     "execution_count": 90,
     "metadata": {},
     "output_type": "execute_result"
    }
   ],
   "source": [
    "a1 = pd.Series(0,pd.date_range('2013-1-1','2014-12-31'))\n",
    "a1"
   ]
  },
  {
   "cell_type": "code",
   "execution_count": 94,
   "metadata": {},
   "outputs": [
    {
     "data": {
      "text/plain": [
       "2013-05-01    0\n",
       "2013-05-02    0\n",
       "2013-05-03    0\n",
       "2013-05-04    0\n",
       "2013-05-05    0\n",
       "             ..\n",
       "2013-07-27    0\n",
       "2013-07-28    0\n",
       "2013-07-29    0\n",
       "2013-07-30    0\n",
       "2013-07-31    0\n",
       "Freq: D, Length: 92, dtype: int64"
      ]
     },
     "execution_count": 94,
     "metadata": {},
     "output_type": "execute_result"
    }
   ],
   "source": [
    "a1['2013-5':'2013-7']"
   ]
  },
  {
   "cell_type": "code",
   "execution_count": 107,
   "metadata": {},
   "outputs": [
    {
     "data": {
      "text/plain": [
       "2014-08-01 00:00:00   -1.136956\n",
       "2014-08-01 00:01:00   -0.850209\n",
       "2014-08-01 00:02:00    0.495332\n",
       "2014-08-01 00:03:00    0.695090\n",
       "2014-08-01 00:04:00   -1.530806\n",
       "                         ...   \n",
       "2014-10-29 23:55:00   -1.116849\n",
       "2014-10-29 23:56:00    0.720041\n",
       "2014-10-29 23:57:00    0.107382\n",
       "2014-10-29 23:58:00   -2.160567\n",
       "2014-10-29 23:59:00   -1.883565\n",
       "Freq: T, Length: 129600, dtype: float64"
      ]
     },
     "execution_count": 107,
     "metadata": {},
     "output_type": "execute_result"
    }
   ],
   "source": [
    "np.random.seed(234142)\n",
    "s1 =  pd.Series(np.random.randn(90*24*60), pd.date_range('2014-08-01','2014-10-29 23:59', freq = 'T'))\n",
    "s1"
   ]
  },
  {
   "cell_type": "code",
   "execution_count": 105,
   "metadata": {},
   "outputs": [
    {
     "data": {
      "text/plain": [
       "2014-08-01 00:05:00    1.605175\n",
       "2014-08-01 00:06:00    1.137120\n",
       "2014-08-01 00:07:00   -0.130351\n",
       "2014-08-01 00:08:00   -0.491726\n",
       "2014-08-01 00:09:00    0.432876\n",
       "2014-08-01 00:10:00   -1.098468\n",
       "Freq: T, dtype: float64"
      ]
     },
     "execution_count": 105,
     "metadata": {},
     "output_type": "execute_result"
    }
   ],
   "source": [
    "s1['2014-08-1 00:5':'2014-08-01 00:10']"
   ]
  },
  {
   "cell_type": "code",
   "execution_count": 112,
   "metadata": {},
   "outputs": [
    {
     "data": {
      "text/plain": [
       "2014-08-03    0\n",
       "2014-08-10    0\n",
       "2014-08-17    0\n",
       "2014-08-24    0\n",
       "2014-08-31    0\n",
       "2014-09-07    0\n",
       "2014-09-14    0\n",
       "2014-09-21    0\n",
       "2014-09-28    0\n",
       "2014-10-05    0\n",
       "2014-10-12    0\n",
       "2014-10-19    0\n",
       "2014-10-26    0\n",
       "Freq: W-SUN, dtype: int64"
      ]
     },
     "execution_count": 112,
     "metadata": {},
     "output_type": "execute_result"
    }
   ],
   "source": [
    "np.random.seed(234142)\n",
    "s1 =  pd.Series(0, pd.date_range('2014-08-01','2014-10-29', freq = 'W'))\n",
    "s1"
   ]
  },
  {
   "cell_type": "code",
   "execution_count": 115,
   "metadata": {},
   "outputs": [],
   "source": [
    "a1 = pd.date_range('2014-8-30','2014-9-8', freq='B')"
   ]
  },
  {
   "cell_type": "code",
   "execution_count": 116,
   "metadata": {},
   "outputs": [
    {
     "data": {
      "text/plain": [
       "<BusinessDay>"
      ]
     },
     "execution_count": 116,
     "metadata": {},
     "output_type": "execute_result"
    }
   ],
   "source": [
    "a1.freq"
   ]
  },
  {
   "cell_type": "code",
   "execution_count": 121,
   "metadata": {},
   "outputs": [
    {
     "data": {
      "text/plain": [
       "Timestamp('2022-01-02 00:00:00')"
      ]
     },
     "execution_count": 121,
     "metadata": {},
     "output_type": "execute_result"
    }
   ],
   "source": [
    "d = pd.Timestamp('2022-1-1')\n",
    "do= pd.DateOffset(days= 1)\n",
    "d + do"
   ]
  },
  {
   "cell_type": "code",
   "execution_count": null,
   "metadata": {},
   "outputs": [],
   "source": []
  }
 ],
 "metadata": {
  "kernelspec": {
   "display_name": "Python 3",
   "language": "python",
   "name": "python3"
  },
  "language_info": {
   "codemirror_mode": {
    "name": "ipython",
    "version": 3
   },
   "file_extension": ".py",
   "mimetype": "text/x-python",
   "name": "python",
   "nbconvert_exporter": "python",
   "pygments_lexer": "ipython3",
   "version": "3.7.4"
  }
 },
 "nbformat": 4,
 "nbformat_minor": 2
}
