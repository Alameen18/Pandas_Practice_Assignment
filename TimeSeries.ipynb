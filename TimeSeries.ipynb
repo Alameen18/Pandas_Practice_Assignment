{
 "cells": [
  {
   "cell_type": "code",
   "execution_count": 1,
   "metadata": {},
   "outputs": [],
   "source": [
    "import numpy as np\n",
    "import pandas as pd\n",
    "from datetime import datetime"
   ]
  },
  {
   "cell_type": "code",
   "execution_count": 2,
   "metadata": {},
   "outputs": [
    {
     "data": {
      "text/plain": [
       "datetime.datetime(2023, 11, 1, 3, 32, 13, 746414)"
      ]
     },
     "execution_count": 2,
     "metadata": {},
     "output_type": "execute_result"
    }
   ],
   "source": [
    "datetime.now()"
   ]
  },
  {
   "cell_type": "code",
   "execution_count": 3,
   "metadata": {},
   "outputs": [],
   "source": [
    "date = datetime(2012,12,19,10,33)"
   ]
  },
  {
   "cell_type": "code",
   "execution_count": 4,
   "metadata": {},
   "outputs": [
    {
     "data": {
      "text/plain": [
       "33"
      ]
     },
     "execution_count": 4,
     "metadata": {},
     "output_type": "execute_result"
    }
   ],
   "source": [
    "date.minute"
   ]
  },
  {
   "cell_type": "markdown",
   "metadata": {},
   "source": [
    "# Pandas TimeStamp"
   ]
  },
  {
   "cell_type": "code",
   "execution_count": 5,
   "metadata": {},
   "outputs": [
    {
     "data": {
      "text/plain": [
       "Timestamp('2023-11-01 03:32:16.159861')"
      ]
     },
     "execution_count": 5,
     "metadata": {},
     "output_type": "execute_result"
    }
   ],
   "source": [
    "pd.Timestamp.now()"
   ]
  },
  {
   "cell_type": "code",
   "execution_count": 6,
   "metadata": {},
   "outputs": [],
   "source": [
    "pd_time = pd.Timestamp('2000-12-19')"
   ]
  },
  {
   "cell_type": "code",
   "execution_count": 7,
   "metadata": {},
   "outputs": [
    {
     "data": {
      "text/plain": [
       "Timestamp('2000-12-19 00:00:00')"
      ]
     },
     "execution_count": 7,
     "metadata": {},
     "output_type": "execute_result"
    }
   ],
   "source": [
    "pd_time"
   ]
  },
  {
   "cell_type": "code",
   "execution_count": 8,
   "metadata": {},
   "outputs": [],
   "source": [
    "pd_time = pd.Timestamp('4:07')"
   ]
  },
  {
   "cell_type": "code",
   "execution_count": 9,
   "metadata": {},
   "outputs": [
    {
     "data": {
      "text/plain": [
       "Timestamp('2023-11-01 04:07:00')"
      ]
     },
     "execution_count": 9,
     "metadata": {},
     "output_type": "execute_result"
    }
   ],
   "source": [
    "pd_time"
   ]
  },
  {
   "cell_type": "markdown",
   "metadata": {},
   "source": [
    "# Time Delta to create difference in timeStamp"
   ]
  },
  {
   "cell_type": "code",
   "execution_count": 10,
   "metadata": {},
   "outputs": [],
   "source": [
    "date = pd.Timestamp('2014-12-15')"
   ]
  },
  {
   "cell_type": "code",
   "execution_count": 11,
   "metadata": {},
   "outputs": [],
   "source": [
    "next_day = pd.Timedelta(days= 1)"
   ]
  },
  {
   "cell_type": "code",
   "execution_count": 12,
   "metadata": {},
   "outputs": [
    {
     "data": {
      "text/plain": [
       "Timestamp('2014-12-16 00:00:00')"
      ]
     },
     "execution_count": 12,
     "metadata": {},
     "output_type": "execute_result"
    }
   ],
   "source": [
    "tomorrow = date + next_day\n",
    "tomorrow"
   ]
  },
  {
   "cell_type": "code",
   "execution_count": 13,
   "metadata": {},
   "outputs": [
    {
     "data": {
      "text/plain": [
       "Timestamp('2016-01-01 00:00:00')"
      ]
     },
     "execution_count": 13,
     "metadata": {},
     "output_type": "execute_result"
    }
   ],
   "source": [
    "# Increase 1 month of the date\n",
    "new = pd.Timestamp(2015,12,25)\n",
    "after_one_Month = new + pd.Timedelta(weeks = 1)\n",
    "after_one_Month"
   ]
  },
  {
   "cell_type": "code",
   "execution_count": 14,
   "metadata": {},
   "outputs": [
    {
     "data": {
      "text/plain": [
       "Timestamp('2014-12-16 00:00:00')"
      ]
     },
     "execution_count": 14,
     "metadata": {},
     "output_type": "execute_result"
    }
   ],
   "source": [
    "date + next_day"
   ]
  },
  {
   "cell_type": "markdown",
   "metadata": {},
   "source": [
    "# DateTime Indexes "
   ]
  },
  {
   "cell_type": "code",
   "execution_count": 15,
   "metadata": {},
   "outputs": [],
   "source": [
    "date = [datetime(2022,10,12),datetime(2022,10,13)]"
   ]
  },
  {
   "cell_type": "code",
   "execution_count": 16,
   "metadata": {},
   "outputs": [
    {
     "data": {
      "text/plain": [
       "2022-10-12   -1.018940\n",
       "2022-10-13   -0.757186\n",
       "dtype: float64"
      ]
     },
     "execution_count": 16,
     "metadata": {},
     "output_type": "execute_result"
    }
   ],
   "source": [
    "data = pd.Series(np.random.randn(2), date)\n",
    "data"
   ]
  },
  {
   "cell_type": "code",
   "execution_count": 17,
   "metadata": {},
   "outputs": [
    {
     "data": {
      "text/plain": [
       "DatetimeIndex(['2022-10-12', '2022-10-13'], dtype='datetime64[ns]', freq=None)"
      ]
     },
     "execution_count": 17,
     "metadata": {},
     "output_type": "execute_result"
    }
   ],
   "source": [
    "data.index"
   ]
  },
  {
   "cell_type": "code",
   "execution_count": 18,
   "metadata": {},
   "outputs": [
    {
     "data": {
      "text/plain": [
       "array([-1.01893988, -0.75718644])"
      ]
     },
     "execution_count": 18,
     "metadata": {},
     "output_type": "execute_result"
    }
   ],
   "source": [
    "data.values"
   ]
  },
  {
   "cell_type": "code",
   "execution_count": 19,
   "metadata": {},
   "outputs": [],
   "source": [
    "data = ['Aug 1,2023','2023-10-12','2023-10-14',None]"
   ]
  },
  {
   "cell_type": "code",
   "execution_count": 20,
   "metadata": {},
   "outputs": [
    {
     "data": {
      "text/plain": [
       "DatetimeIndex(['2023-08-01', '2023-10-12', '2023-10-14', 'NaT'], dtype='datetime64[ns]', freq=None)"
      ]
     },
     "execution_count": 20,
     "metadata": {},
     "output_type": "execute_result"
    }
   ],
   "source": [
    "pdi = pd.to_datetime(data)\n",
    "pdi"
   ]
  },
  {
   "cell_type": "code",
   "execution_count": 21,
   "metadata": {},
   "outputs": [
    {
     "name": "stdout",
     "output_type": "stream",
     "text": [
      "2023-08-01 00:00:00\n",
      "2023-10-12 00:00:00\n",
      "2023-10-14 00:00:00\n",
      "NaT\n"
     ]
    }
   ],
   "source": [
    "for i in pdi:\n",
    "    print(i)"
   ]
  },
  {
   "cell_type": "markdown",
   "metadata": {},
   "source": [
    "# Date Range "
   ]
  },
  {
   "cell_type": "code",
   "execution_count": 22,
   "metadata": {},
   "outputs": [
    {
     "data": {
      "text/plain": [
       "2023-03-31   -1.085631\n",
       "2023-06-30    0.997345\n",
       "2023-09-30    0.282978\n",
       "2023-12-31   -1.506295\n",
       "2024-03-31   -0.578600\n",
       "2024-06-30    1.651437\n",
       "2024-09-30   -2.426679\n",
       "2024-12-31   -0.428913\n",
       "2025-03-31    1.265936\n",
       "2025-06-30   -0.866740\n",
       "2025-09-30   -0.678886\n",
       "2025-12-31   -0.094709\n",
       "2026-03-31    1.491390\n",
       "2026-06-30   -0.638902\n",
       "Freq: Q-DEC, dtype: float64"
      ]
     },
     "execution_count": 22,
     "metadata": {},
     "output_type": "execute_result"
    }
   ],
   "source": [
    "a1 = pd.date_range('2023-01-19' , periods= 14, freq='Q')\n",
    "np.random.seed(123)\n",
    "da1 = pd.Series(np.random.randn(14) ,a1)\n",
    "da1"
   ]
  },
  {
   "cell_type": "code",
   "execution_count": 23,
   "metadata": {},
   "outputs": [
    {
     "data": {
      "text/plain": [
       "2013-01-01    1.720824\n",
       "2013-01-02   -1.607905\n",
       "2013-01-03    0.827183\n",
       "2013-01-04   -0.038750\n",
       "2013-01-05   -0.386477\n",
       "                ...   \n",
       "2014-12-27   -0.317300\n",
       "2014-12-28   -1.653178\n",
       "2014-12-29    0.189082\n",
       "2014-12-30    0.530491\n",
       "2014-12-31   -1.158662\n",
       "Freq: D, Length: 730, dtype: float64"
      ]
     },
     "execution_count": 23,
     "metadata": {},
     "output_type": "execute_result"
    }
   ],
   "source": [
    "np.random.seed(2324)\n",
    "range1 = pd.Series(np.random.randn(730),pd.date_range('2013-01-01','2014-12-31'))\n",
    "range1"
   ]
  },
  {
   "cell_type": "code",
   "execution_count": 24,
   "metadata": {},
   "outputs": [
    {
     "data": {
      "text/plain": [
       "2013-01-01    1.720824\n",
       "2013-01-02   -1.607905\n",
       "2013-01-03    0.827183\n",
       "2013-01-04   -0.038750\n",
       "2013-01-05   -0.386477\n",
       "2013-01-06   -0.477680\n",
       "2013-01-07   -0.279588\n",
       "2013-01-08    1.317506\n",
       "2013-01-09    0.025077\n",
       "2013-01-10    0.784792\n",
       "2013-01-11    0.583386\n",
       "2013-01-12   -1.430608\n",
       "2013-01-13    0.652940\n",
       "2013-01-14    0.321303\n",
       "2013-01-15    0.580514\n",
       "2013-01-16    1.490102\n",
       "2013-01-17    0.164230\n",
       "2013-01-18    0.553097\n",
       "2013-01-19    1.516649\n",
       "2013-01-20    0.921561\n",
       "2013-01-21   -1.094490\n",
       "2013-01-22    1.225618\n",
       "2013-01-23   -0.353450\n",
       "2013-01-24   -0.222918\n",
       "2013-01-25    0.769683\n",
       "2013-01-26   -0.167556\n",
       "2013-01-27    0.586962\n",
       "2013-01-28    1.414687\n",
       "2013-01-29    0.694763\n",
       "2013-01-30   -0.293057\n",
       "2013-01-31    0.013076\n",
       "Freq: D, dtype: float64"
      ]
     },
     "execution_count": 24,
     "metadata": {},
     "output_type": "execute_result"
    }
   ],
   "source": [
    "range1['2013-01']"
   ]
  },
  {
   "cell_type": "markdown",
   "metadata": {},
   "source": [
    "# Time Series with data Specific Value"
   ]
  },
  {
   "cell_type": "code",
   "execution_count": 25,
   "metadata": {},
   "outputs": [
    {
     "data": {
      "text/plain": [
       "2023-08-01 00:00:00   -0.680723\n",
       "2023-08-01 00:01:00    0.114191\n",
       "2023-08-01 00:02:00   -0.032711\n",
       "2023-08-01 00:03:00   -0.121254\n",
       "2023-08-01 00:04:00   -0.313663\n",
       "                         ...   \n",
       "2023-10-29 23:55:00    0.240683\n",
       "2023-10-29 23:56:00   -0.795238\n",
       "2023-10-29 23:57:00   -0.721322\n",
       "2023-10-29 23:58:00    0.429380\n",
       "2023-10-29 23:59:00   -0.896054\n",
       "Freq: T, Length: 129600, dtype: float64"
      ]
     },
     "execution_count": 25,
     "metadata": {},
     "output_type": "execute_result"
    }
   ],
   "source": [
    "np.random.seed(341252)\n",
    "s1 = pd.Series(np.random.randn(90*24*60), pd.date_range('2023-08-01','2023-10-29 23:59', freq= 'T'))\n",
    "s1"
   ]
  },
  {
   "cell_type": "code",
   "execution_count": 26,
   "metadata": {},
   "outputs": [
    {
     "data": {
      "text/plain": [
       "2023-08-01 00:10:00   -0.762064\n",
       "2023-08-01 00:11:00   -0.056887\n",
       "2023-08-01 00:12:00   -0.489751\n",
       "2023-08-01 00:13:00    0.914934\n",
       "2023-08-01 00:14:00   -0.583698\n",
       "2023-08-01 00:15:00   -0.526595\n",
       "2023-08-01 00:16:00   -0.283907\n",
       "2023-08-01 00:17:00   -0.709891\n",
       "2023-08-01 00:18:00    0.594622\n",
       "2023-08-01 00:19:00   -0.500305\n",
       "Freq: T, dtype: float64"
      ]
     },
     "execution_count": 26,
     "metadata": {},
     "output_type": "execute_result"
    }
   ],
   "source": [
    "s1['2023-08-01 00:10': '2023-08-01 00:19']"
   ]
  },
  {
   "cell_type": "code",
   "execution_count": 7,
   "metadata": {},
   "outputs": [
    {
     "data": {
      "text/plain": [
       "DatetimeIndex(['2000-02-18', '2000-02-19', '2000-02-20', '2000-02-21',\n",
       "               '2000-02-22', '2000-02-23', '2000-02-24', '2000-02-25',\n",
       "               '2000-02-26', '2000-02-27',\n",
       "               ...\n",
       "               '2023-10-23', '2023-10-24', '2023-10-25', '2023-10-26',\n",
       "               '2023-10-27', '2023-10-28', '2023-10-29', '2023-10-30',\n",
       "               '2023-10-31', '2023-11-01'],\n",
       "              dtype='datetime64[ns]', length=8658, freq='D')"
      ]
     },
     "execution_count": 7,
     "metadata": {},
     "output_type": "execute_result"
    }
   ],
   "source": [
    "dates = pd.date_range(\"2000-02-18\",\"2023-11-1\", freq= 'D')\n",
    "dates"
   ]
  },
  {
   "cell_type": "code",
   "execution_count": null,
   "metadata": {},
   "outputs": [],
   "source": []
  }
 ],
 "metadata": {
  "kernelspec": {
   "display_name": "Python 3",
   "language": "python",
   "name": "python3"
  },
  "language_info": {
   "codemirror_mode": {
    "name": "ipython",
    "version": 3
   },
   "file_extension": ".py",
   "mimetype": "text/x-python",
   "name": "python",
   "nbconvert_exporter": "python",
   "pygments_lexer": "ipython3",
   "version": "3.7.4"
  }
 },
 "nbformat": 4,
 "nbformat_minor": 2
}
