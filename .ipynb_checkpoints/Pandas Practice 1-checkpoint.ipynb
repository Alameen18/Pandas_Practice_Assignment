{
 "cells": [
  {
   "cell_type": "markdown",
   "metadata": {},
   "source": [
    "# Pandas\n",
    "       Data Analysis Libarary\n",
    "       Series     Single Dimension\n",
    "       DataFrame  Multi Dimension"
   ]
  },
  {
   "cell_type": "code",
   "execution_count": 64,
   "metadata": {},
   "outputs": [],
   "source": [
    "import pandas as pd\n",
    "import numpy as np"
   ]
  },
  {
   "cell_type": "code",
   "execution_count": 2,
   "metadata": {},
   "outputs": [
    {
     "data": {
      "text/plain": [
       "0    1\n",
       "1    2\n",
       "2    3\n",
       "3    4\n",
       "4    5\n",
       "dtype: int64"
      ]
     },
     "execution_count": 2,
     "metadata": {},
     "output_type": "execute_result"
    }
   ],
   "source": [
    "s1 = pd.Series([1,2,3,4,5])\n",
    "s1"
   ]
  },
  {
   "cell_type": "code",
   "execution_count": 3,
   "metadata": {},
   "outputs": [
    {
     "data": {
      "text/plain": [
       "RangeIndex(start=0, stop=5, step=1)"
      ]
     },
     "execution_count": 3,
     "metadata": {},
     "output_type": "execute_result"
    }
   ],
   "source": [
    "s1.index"
   ]
  },
  {
   "cell_type": "code",
   "execution_count": 4,
   "metadata": {},
   "outputs": [],
   "source": [
    "s1.index = ['one','two','three','four','five']"
   ]
  },
  {
   "cell_type": "code",
   "execution_count": 5,
   "metadata": {},
   "outputs": [
    {
     "data": {
      "text/plain": [
       "one      1\n",
       "two      2\n",
       "three    3\n",
       "four     4\n",
       "five     5\n",
       "dtype: int64"
      ]
     },
     "execution_count": 5,
     "metadata": {},
     "output_type": "execute_result"
    }
   ],
   "source": [
    "s1"
   ]
  },
  {
   "cell_type": "code",
   "execution_count": 6,
   "metadata": {},
   "outputs": [
    {
     "data": {
      "text/plain": [
       "0    0\n",
       "1    1\n",
       "2    2\n",
       "3    3\n",
       "4    4\n",
       "5    5\n",
       "6    6\n",
       "7    7\n",
       "8    8\n",
       "9    9\n",
       "dtype: int64"
      ]
     },
     "execution_count": 6,
     "metadata": {},
     "output_type": "execute_result"
    }
   ],
   "source": [
    "s2 = pd.Series(range(10))\n",
    "s2"
   ]
  },
  {
   "cell_type": "code",
   "execution_count": 7,
   "metadata": {},
   "outputs": [
    {
     "data": {
      "text/plain": [
       "zero     0\n",
       "one      1\n",
       "two      2\n",
       "three    3\n",
       "four     4\n",
       "five     5\n",
       "six      6\n",
       "seven    7\n",
       "eight    8\n",
       "nine     9\n",
       "dtype: int64"
      ]
     },
     "execution_count": 7,
     "metadata": {},
     "output_type": "execute_result"
    }
   ],
   "source": [
    "s2.index = ['zero','one','two','three','four','five','six','seven','eight','nine']\n",
    "s2"
   ]
  },
  {
   "cell_type": "code",
   "execution_count": 8,
   "metadata": {},
   "outputs": [
    {
     "data": {
      "text/plain": [
       "eight     NaN\n",
       "five     10.0\n",
       "four      8.0\n",
       "nine      NaN\n",
       "one       2.0\n",
       "seven     NaN\n",
       "six       NaN\n",
       "three     6.0\n",
       "two       4.0\n",
       "zero      NaN\n",
       "dtype: float64"
      ]
     },
     "execution_count": 8,
     "metadata": {},
     "output_type": "execute_result"
    }
   ],
   "source": [
    "s1 + s2"
   ]
  },
  {
   "cell_type": "code",
   "execution_count": 9,
   "metadata": {},
   "outputs": [
    {
     "data": {
      "text/plain": [
       "Apple     10\n",
       "Mango     20\n",
       "Banana    30\n",
       "dtype: int64"
      ]
     },
     "execution_count": 9,
     "metadata": {},
     "output_type": "execute_result"
    }
   ],
   "source": [
    "s3 = pd.Series([10,20,30], index=['Apple','Mango','Banana'])\n",
    "s3"
   ]
  },
  {
   "cell_type": "code",
   "execution_count": 10,
   "metadata": {},
   "outputs": [
    {
     "data": {
      "text/plain": [
       "Apple    NaN\n",
       "Banana   NaN\n",
       "Mango    NaN\n",
       "five     NaN\n",
       "four     NaN\n",
       "one      NaN\n",
       "three    NaN\n",
       "two      NaN\n",
       "dtype: float64"
      ]
     },
     "execution_count": 10,
     "metadata": {},
     "output_type": "execute_result"
    }
   ],
   "source": [
    "s1 + s3"
   ]
  },
  {
   "cell_type": "code",
   "execution_count": 11,
   "metadata": {},
   "outputs": [
    {
     "data": {
      "text/plain": [
       "three    3\n",
       "four     4\n",
       "five     5\n",
       "six      6\n",
       "seven    7\n",
       "eight    8\n",
       "dtype: int64"
      ]
     },
     "execution_count": 11,
     "metadata": {},
     "output_type": "execute_result"
    }
   ],
   "source": [
    "s2['three':'eight']"
   ]
  },
  {
   "cell_type": "markdown",
   "metadata": {},
   "source": [
    "# Lambda Function"
   ]
  },
  {
   "cell_type": "code",
   "execution_count": 15,
   "metadata": {},
   "outputs": [],
   "source": [
    "s2 = s2.apply(lambda x: x*10)"
   ]
  },
  {
   "cell_type": "code",
   "execution_count": 18,
   "metadata": {},
   "outputs": [
    {
     "data": {
      "text/plain": [
       "zero     Fasle\n",
       "one      Fasle\n",
       "two      Fasle\n",
       "three    Fasle\n",
       "four     Fasle\n",
       "five      True\n",
       "six       True\n",
       "seven     True\n",
       "eight     True\n",
       "nine      True\n",
       "dtype: object"
      ]
     },
     "execution_count": 18,
     "metadata": {},
     "output_type": "execute_result"
    }
   ],
   "source": [
    "s2.apply(lambda x: \"True\" if x > 40 else \"Fasle\")"
   ]
  },
  {
   "cell_type": "code",
   "execution_count": 29,
   "metadata": {},
   "outputs": [
    {
     "data": {
      "text/plain": [
       "zero     0\n",
       "one      1\n",
       "two      2\n",
       "three    3\n",
       "four     4\n",
       "five     5\n",
       "six      6\n",
       "seven    7\n",
       "eight    8\n",
       "nine     9\n",
       "dtype: int64"
      ]
     },
     "execution_count": 29,
     "metadata": {},
     "output_type": "execute_result"
    }
   ],
   "source": [
    "pd.Series(range(10), index=s2.index)\n",
    "s4"
   ]
  },
  {
   "cell_type": "code",
   "execution_count": 72,
   "metadata": {},
   "outputs": [
    {
     "data": {
      "text/plain": [
       "0    0.228273\n",
       "1    1.026890\n",
       "2   -0.839585\n",
       "3   -0.591182\n",
       "4   -0.956888\n",
       "5   -0.222326\n",
       "6   -0.619915\n",
       "7    1.837905\n",
       "8   -2.053231\n",
       "9    0.868583\n",
       "dtype: float64"
      ]
     },
     "execution_count": 72,
     "metadata": {},
     "output_type": "execute_result"
    }
   ],
   "source": [
    "np.random.seed(25)\n",
    "pd.Series(np.random.randn(10))"
   ]
  },
  {
   "cell_type": "code",
   "execution_count": 93,
   "metadata": {},
   "outputs": [],
   "source": [
    "s5 = pd.Series((2,4,6,7,9,0,0,65,345,242,65,453,42,np.NaN))"
   ]
  },
  {
   "cell_type": "code",
   "execution_count": 78,
   "metadata": {},
   "outputs": [],
   "source": [
    "s4 = pd.Series({'a':1,'b':2,'c':3,'d':4,'e':5,'f':6,'g':8})"
   ]
  },
  {
   "cell_type": "code",
   "execution_count": 84,
   "metadata": {},
   "outputs": [
    {
     "data": {
      "text/plain": [
       "(7,)"
      ]
     },
     "execution_count": 84,
     "metadata": {},
     "output_type": "execute_result"
    }
   ],
   "source": [
    "s4.shape"
   ]
  },
  {
   "cell_type": "code",
   "execution_count": 98,
   "metadata": {},
   "outputs": [
    {
     "data": {
      "text/plain": [
       "3      7.0\n",
       "6      0.0\n",
       "8    345.0\n",
       "dtype: float64"
      ]
     },
     "execution_count": 98,
     "metadata": {},
     "output_type": "execute_result"
    }
   ],
   "source": [
    "s5.tail(4)\n",
    "s5.take([3,6,8])"
   ]
  },
  {
   "cell_type": "code",
   "execution_count": 109,
   "metadata": {},
   "outputs": [
    {
     "data": {
      "text/plain": [
       "0       2.0\n",
       "1       4.0\n",
       "2       6.0\n",
       "3       7.0\n",
       "4       9.0\n",
       "5       0.0\n",
       "6       0.0\n",
       "7      65.0\n",
       "8     345.0\n",
       "9     242.0\n",
       "10     65.0\n",
       "11    453.0\n",
       "12     42.0\n",
       "13      NaN\n",
       "dtype: float64"
      ]
     },
     "execution_count": 109,
     "metadata": {},
     "output_type": "execute_result"
    }
   ],
   "source": [
    "s5"
   ]
  },
  {
   "cell_type": "code",
   "execution_count": 122,
   "metadata": {},
   "outputs": [],
   "source": [
    "s6 = pd.Series({'a': 1,'b':2,'c':3,'d':4})\n",
    "s7 = pd.Series({'b':1,'c':2,'d':3,'e':4})"
   ]
  },
  {
   "cell_type": "code",
   "execution_count": 123,
   "metadata": {},
   "outputs": [
    {
     "data": {
      "text/plain": [
       "a    NaN\n",
       "b    3.0\n",
       "c    5.0\n",
       "d    7.0\n",
       "e    NaN\n",
       "dtype: float64"
      ]
     },
     "execution_count": 123,
     "metadata": {},
     "output_type": "execute_result"
    }
   ],
   "source": [
    "s6 + s7"
   ]
  },
  {
   "cell_type": "code",
   "execution_count": 124,
   "metadata": {},
   "outputs": [],
   "source": [
    "s = pd.Series(range(10))"
   ]
  },
  {
   "cell_type": "code",
   "execution_count": 126,
   "metadata": {},
   "outputs": [
    {
     "data": {
      "text/plain": [
       "6    6\n",
       "7    7\n",
       "8    8\n",
       "9    9\n",
       "dtype: int64"
      ]
     },
     "execution_count": 126,
     "metadata": {},
     "output_type": "execute_result"
    }
   ],
   "source": [
    "s[s > 5]"
   ]
  },
  {
   "cell_type": "code",
   "execution_count": 135,
   "metadata": {},
   "outputs": [],
   "source": [
    "np.random.seed(25)\n",
    "s1 = pd.Series(np.random.randn(5))\n",
    "s2 = pd.Series(np.random.randn(5))"
   ]
  },
  {
   "cell_type": "code",
   "execution_count": 151,
   "metadata": {},
   "outputs": [
    {
     "data": {
      "text/plain": [
       "0    0.228273\n",
       "1    1.026890\n",
       "2   -0.839585\n",
       "3   -0.591182\n",
       "4   -0.956888\n",
       "0   -0.222326\n",
       "1   -0.619915\n",
       "2    1.837905\n",
       "3   -2.053231\n",
       "4    0.868583\n",
       "dtype: float64"
      ]
     },
     "execution_count": 151,
     "metadata": {},
     "output_type": "execute_result"
    }
   ],
   "source": [
    "combined = pd.concat((s1,s2))\n",
    "combined"
   ]
  },
  {
   "cell_type": "code",
   "execution_count": 150,
   "metadata": {},
   "outputs": [
    {
     "data": {
      "text/plain": [
       "0    0.228273\n",
       "1    1.026890\n",
       "2   -0.839585\n",
       "3   -0.591182\n",
       "4   -0.956888\n",
       "5   -0.222326\n",
       "6   -0.619915\n",
       "7    1.837905\n",
       "8   -2.053231\n",
       "9    0.868583\n",
       "dtype: float64"
      ]
     },
     "execution_count": 150,
     "metadata": {},
     "output_type": "execute_result"
    }
   ],
   "source": [
    "combined.reset_index(drop=True,inplace=True)\n",
    "combined"
   ]
  },
  {
   "cell_type": "code",
   "execution_count": 154,
   "metadata": {},
   "outputs": [
    {
     "data": {
      "text/plain": [
       "a   -0.416758\n",
       "b   -0.056267\n",
       "c   -2.136196\n",
       "d    1.640271\n",
       "dtype: float64"
      ]
     },
     "execution_count": 154,
     "metadata": {},
     "output_type": "execute_result"
    }
   ],
   "source": [
    "np.random.seed(2)\n",
    "s1 = pd.Series(np.random.randn(4),['a','b','c','d'])\n",
    "s1"
   ]
  },
  {
   "cell_type": "code",
   "execution_count": 156,
   "metadata": {},
   "outputs": [
    {
     "data": {
      "text/plain": [
       "a   -0.416758\n",
       "b   -0.056267\n",
       "g         NaN\n",
       "dtype: float64"
      ]
     },
     "execution_count": 156,
     "metadata": {},
     "output_type": "execute_result"
    }
   ],
   "source": [
    "s2 = s1.reindex(['a','b','g'])\n",
    "s2"
   ]
  },
  {
   "cell_type": "code",
   "execution_count": 161,
   "metadata": {},
   "outputs": [
    {
     "data": {
      "text/plain": [
       "10    100\n",
       "11    101\n",
       "12    102\n",
       "13    103\n",
       "14    104\n",
       "15    105\n",
       "16    106\n",
       "17    107\n",
       "18    108\n",
       "19    109\n",
       "dtype: int32"
      ]
     },
     "execution_count": 161,
     "metadata": {},
     "output_type": "execute_result"
    }
   ],
   "source": [
    "s = pd.Series(np.arange(100,110), index= np.arange(10,20))\n",
    "s"
   ]
  },
  {
   "cell_type": "code",
   "execution_count": 172,
   "metadata": {},
   "outputs": [
    {
     "data": {
      "text/plain": [
       "17    107\n",
       "18    108\n",
       "19    109\n",
       "dtype: int32"
      ]
     },
     "execution_count": 172,
     "metadata": {},
     "output_type": "execute_result"
    }
   ],
   "source": [
    "s[-3:]"
   ]
  },
  {
   "cell_type": "markdown",
   "metadata": {},
   "source": [
    "# Pandas DataFrame "
   ]
  },
  {
   "cell_type": "code",
   "execution_count": 2,
   "metadata": {},
   "outputs": [],
   "source": [
    "Student = {'Roll no':[1,2,3,4,5,6,7,8,9],\n",
    "          'Name': ['Alameen','Sameer','Hammad','Bilal','Ali','Muavia','Ypusf','Arif','Saleem'],\n",
    "          'Subject': ['Python','Numpy','Pandas','Matplotlib','Seaborn','Tensorflow','Apachli','Python','Numpy'],\n",
    "          'Mode': ['Online','Online','Onsite','Online','Onsite','Onsite','Online','Onsite','Online']}"
   ]
  },
  {
   "cell_type": "code",
   "execution_count": 9,
   "metadata": {},
   "outputs": [
    {
     "data": {
      "text/html": [
       "<div>\n",
       "<style scoped>\n",
       "    .dataframe tbody tr th:only-of-type {\n",
       "        vertical-align: middle;\n",
       "    }\n",
       "\n",
       "    .dataframe tbody tr th {\n",
       "        vertical-align: top;\n",
       "    }\n",
       "\n",
       "    .dataframe thead th {\n",
       "        text-align: right;\n",
       "    }\n",
       "</style>\n",
       "<table border=\"1\" class=\"dataframe\">\n",
       "  <thead>\n",
       "    <tr style=\"text-align: right;\">\n",
       "      <th></th>\n",
       "      <th>Roll no</th>\n",
       "      <th>Name</th>\n",
       "      <th>Subject</th>\n",
       "      <th>Mode</th>\n",
       "    </tr>\n",
       "  </thead>\n",
       "  <tbody>\n",
       "    <tr>\n",
       "      <td>0</td>\n",
       "      <td>1</td>\n",
       "      <td>Alameen</td>\n",
       "      <td>Python</td>\n",
       "      <td>Online</td>\n",
       "    </tr>\n",
       "    <tr>\n",
       "      <td>1</td>\n",
       "      <td>2</td>\n",
       "      <td>Sameer</td>\n",
       "      <td>Numpy</td>\n",
       "      <td>Online</td>\n",
       "    </tr>\n",
       "    <tr>\n",
       "      <td>2</td>\n",
       "      <td>3</td>\n",
       "      <td>Hammad</td>\n",
       "      <td>Pandas</td>\n",
       "      <td>Onsite</td>\n",
       "    </tr>\n",
       "    <tr>\n",
       "      <td>3</td>\n",
       "      <td>4</td>\n",
       "      <td>Bilal</td>\n",
       "      <td>Matplotlib</td>\n",
       "      <td>Online</td>\n",
       "    </tr>\n",
       "    <tr>\n",
       "      <td>4</td>\n",
       "      <td>5</td>\n",
       "      <td>Ali</td>\n",
       "      <td>Seaborn</td>\n",
       "      <td>Onsite</td>\n",
       "    </tr>\n",
       "    <tr>\n",
       "      <td>5</td>\n",
       "      <td>6</td>\n",
       "      <td>Muavia</td>\n",
       "      <td>Tensorflow</td>\n",
       "      <td>Onsite</td>\n",
       "    </tr>\n",
       "    <tr>\n",
       "      <td>6</td>\n",
       "      <td>7</td>\n",
       "      <td>Ypusf</td>\n",
       "      <td>Apachli</td>\n",
       "      <td>Online</td>\n",
       "    </tr>\n",
       "    <tr>\n",
       "      <td>7</td>\n",
       "      <td>8</td>\n",
       "      <td>Arif</td>\n",
       "      <td>Python</td>\n",
       "      <td>Onsite</td>\n",
       "    </tr>\n",
       "    <tr>\n",
       "      <td>8</td>\n",
       "      <td>9</td>\n",
       "      <td>Saleem</td>\n",
       "      <td>Numpy</td>\n",
       "      <td>Online</td>\n",
       "    </tr>\n",
       "  </tbody>\n",
       "</table>\n",
       "</div>"
      ],
      "text/plain": [
       "   Roll no     Name     Subject    Mode\n",
       "0        1  Alameen      Python  Online\n",
       "1        2   Sameer       Numpy  Online\n",
       "2        3   Hammad      Pandas  Onsite\n",
       "3        4    Bilal  Matplotlib  Online\n",
       "4        5      Ali     Seaborn  Onsite\n",
       "5        6   Muavia  Tensorflow  Onsite\n",
       "6        7    Ypusf     Apachli  Online\n",
       "7        8     Arif      Python  Onsite\n",
       "8        9   Saleem       Numpy  Online"
      ]
     },
     "execution_count": 9,
     "metadata": {},
     "output_type": "execute_result"
    }
   ],
   "source": [
    "df = pd.DataFrame(Student)\n",
    "df"
   ]
  },
  {
   "cell_type": "code",
   "execution_count": 11,
   "metadata": {},
   "outputs": [
    {
     "data": {
      "text/plain": [
       "pandas.core.series.Series"
      ]
     },
     "execution_count": 11,
     "metadata": {},
     "output_type": "execute_result"
    }
   ],
   "source": [
    "type(df['Roll no'])"
   ]
  },
  {
   "cell_type": "code",
   "execution_count": 12,
   "metadata": {},
   "outputs": [
    {
     "data": {
      "text/plain": [
       "pandas.core.frame.DataFrame"
      ]
     },
     "execution_count": 12,
     "metadata": {},
     "output_type": "execute_result"
    }
   ],
   "source": [
    "type(df)"
   ]
  },
  {
   "cell_type": "code",
   "execution_count": 13,
   "metadata": {},
   "outputs": [
    {
     "data": {
      "text/html": [
       "<div>\n",
       "<style scoped>\n",
       "    .dataframe tbody tr th:only-of-type {\n",
       "        vertical-align: middle;\n",
       "    }\n",
       "\n",
       "    .dataframe tbody tr th {\n",
       "        vertical-align: top;\n",
       "    }\n",
       "\n",
       "    .dataframe thead th {\n",
       "        text-align: right;\n",
       "    }\n",
       "</style>\n",
       "<table border=\"1\" class=\"dataframe\">\n",
       "  <thead>\n",
       "    <tr style=\"text-align: right;\">\n",
       "      <th></th>\n",
       "      <th>Roll no</th>\n",
       "      <th>Name</th>\n",
       "      <th>Subject</th>\n",
       "      <th>Mode</th>\n",
       "      <th>Country</th>\n",
       "    </tr>\n",
       "  </thead>\n",
       "  <tbody>\n",
       "    <tr>\n",
       "      <td>0</td>\n",
       "      <td>1</td>\n",
       "      <td>Alameen</td>\n",
       "      <td>Python</td>\n",
       "      <td>Online</td>\n",
       "      <td>Pakistan</td>\n",
       "    </tr>\n",
       "    <tr>\n",
       "      <td>1</td>\n",
       "      <td>2</td>\n",
       "      <td>Sameer</td>\n",
       "      <td>Numpy</td>\n",
       "      <td>Online</td>\n",
       "      <td>Pakistan</td>\n",
       "    </tr>\n",
       "    <tr>\n",
       "      <td>2</td>\n",
       "      <td>3</td>\n",
       "      <td>Hammad</td>\n",
       "      <td>Pandas</td>\n",
       "      <td>Onsite</td>\n",
       "      <td>Pakistan</td>\n",
       "    </tr>\n",
       "    <tr>\n",
       "      <td>3</td>\n",
       "      <td>4</td>\n",
       "      <td>Bilal</td>\n",
       "      <td>Matplotlib</td>\n",
       "      <td>Online</td>\n",
       "      <td>Pakistan</td>\n",
       "    </tr>\n",
       "    <tr>\n",
       "      <td>4</td>\n",
       "      <td>5</td>\n",
       "      <td>Ali</td>\n",
       "      <td>Seaborn</td>\n",
       "      <td>Onsite</td>\n",
       "      <td>Pakistan</td>\n",
       "    </tr>\n",
       "    <tr>\n",
       "      <td>5</td>\n",
       "      <td>6</td>\n",
       "      <td>Muavia</td>\n",
       "      <td>Tensorflow</td>\n",
       "      <td>Onsite</td>\n",
       "      <td>Pakistan</td>\n",
       "    </tr>\n",
       "    <tr>\n",
       "      <td>6</td>\n",
       "      <td>7</td>\n",
       "      <td>Ypusf</td>\n",
       "      <td>Apachli</td>\n",
       "      <td>Online</td>\n",
       "      <td>Pakistan</td>\n",
       "    </tr>\n",
       "    <tr>\n",
       "      <td>7</td>\n",
       "      <td>8</td>\n",
       "      <td>Arif</td>\n",
       "      <td>Python</td>\n",
       "      <td>Onsite</td>\n",
       "      <td>Pakistan</td>\n",
       "    </tr>\n",
       "    <tr>\n",
       "      <td>8</td>\n",
       "      <td>9</td>\n",
       "      <td>Saleem</td>\n",
       "      <td>Numpy</td>\n",
       "      <td>Online</td>\n",
       "      <td>Pakistan</td>\n",
       "    </tr>\n",
       "  </tbody>\n",
       "</table>\n",
       "</div>"
      ],
      "text/plain": [
       "   Roll no     Name     Subject    Mode   Country\n",
       "0        1  Alameen      Python  Online  Pakistan\n",
       "1        2   Sameer       Numpy  Online  Pakistan\n",
       "2        3   Hammad      Pandas  Onsite  Pakistan\n",
       "3        4    Bilal  Matplotlib  Online  Pakistan\n",
       "4        5      Ali     Seaborn  Onsite  Pakistan\n",
       "5        6   Muavia  Tensorflow  Onsite  Pakistan\n",
       "6        7    Ypusf     Apachli  Online  Pakistan\n",
       "7        8     Arif      Python  Onsite  Pakistan\n",
       "8        9   Saleem       Numpy  Online  Pakistan"
      ]
     },
     "execution_count": 13,
     "metadata": {},
     "output_type": "execute_result"
    }
   ],
   "source": [
    "df['Country'] = \"Pakistan\"\n",
    "df"
   ]
  },
  {
   "cell_type": "code",
   "execution_count": 15,
   "metadata": {},
   "outputs": [
    {
     "data": {
      "text/html": [
       "<div>\n",
       "<style scoped>\n",
       "    .dataframe tbody tr th:only-of-type {\n",
       "        vertical-align: middle;\n",
       "    }\n",
       "\n",
       "    .dataframe tbody tr th {\n",
       "        vertical-align: top;\n",
       "    }\n",
       "\n",
       "    .dataframe thead th {\n",
       "        text-align: right;\n",
       "    }\n",
       "</style>\n",
       "<table border=\"1\" class=\"dataframe\">\n",
       "  <thead>\n",
       "    <tr style=\"text-align: right;\">\n",
       "      <th></th>\n",
       "      <th>Roll no</th>\n",
       "      <th>Name</th>\n",
       "      <th>Subject</th>\n",
       "      <th>Mode</th>\n",
       "      <th>Country</th>\n",
       "      <th>Ages</th>\n",
       "    </tr>\n",
       "  </thead>\n",
       "  <tbody>\n",
       "    <tr>\n",
       "      <td>0</td>\n",
       "      <td>1</td>\n",
       "      <td>Alameen</td>\n",
       "      <td>Python</td>\n",
       "      <td>Online</td>\n",
       "      <td>Pakistan</td>\n",
       "      <td>23</td>\n",
       "    </tr>\n",
       "    <tr>\n",
       "      <td>1</td>\n",
       "      <td>2</td>\n",
       "      <td>Sameer</td>\n",
       "      <td>Numpy</td>\n",
       "      <td>Online</td>\n",
       "      <td>Pakistan</td>\n",
       "      <td>22</td>\n",
       "    </tr>\n",
       "    <tr>\n",
       "      <td>2</td>\n",
       "      <td>3</td>\n",
       "      <td>Hammad</td>\n",
       "      <td>Pandas</td>\n",
       "      <td>Onsite</td>\n",
       "      <td>Pakistan</td>\n",
       "      <td>20</td>\n",
       "    </tr>\n",
       "    <tr>\n",
       "      <td>3</td>\n",
       "      <td>4</td>\n",
       "      <td>Bilal</td>\n",
       "      <td>Matplotlib</td>\n",
       "      <td>Online</td>\n",
       "      <td>Pakistan</td>\n",
       "      <td>23</td>\n",
       "    </tr>\n",
       "    <tr>\n",
       "      <td>4</td>\n",
       "      <td>5</td>\n",
       "      <td>Ali</td>\n",
       "      <td>Seaborn</td>\n",
       "      <td>Onsite</td>\n",
       "      <td>Pakistan</td>\n",
       "      <td>42</td>\n",
       "    </tr>\n",
       "    <tr>\n",
       "      <td>5</td>\n",
       "      <td>6</td>\n",
       "      <td>Muavia</td>\n",
       "      <td>Tensorflow</td>\n",
       "      <td>Onsite</td>\n",
       "      <td>Pakistan</td>\n",
       "      <td>45</td>\n",
       "    </tr>\n",
       "    <tr>\n",
       "      <td>6</td>\n",
       "      <td>7</td>\n",
       "      <td>Ypusf</td>\n",
       "      <td>Apachli</td>\n",
       "      <td>Online</td>\n",
       "      <td>Pakistan</td>\n",
       "      <td>12</td>\n",
       "    </tr>\n",
       "    <tr>\n",
       "      <td>7</td>\n",
       "      <td>8</td>\n",
       "      <td>Arif</td>\n",
       "      <td>Python</td>\n",
       "      <td>Onsite</td>\n",
       "      <td>Pakistan</td>\n",
       "      <td>43</td>\n",
       "    </tr>\n",
       "    <tr>\n",
       "      <td>8</td>\n",
       "      <td>9</td>\n",
       "      <td>Saleem</td>\n",
       "      <td>Numpy</td>\n",
       "      <td>Online</td>\n",
       "      <td>Pakistan</td>\n",
       "      <td>12</td>\n",
       "    </tr>\n",
       "  </tbody>\n",
       "</table>\n",
       "</div>"
      ],
      "text/plain": [
       "   Roll no     Name     Subject    Mode   Country  Ages\n",
       "0        1  Alameen      Python  Online  Pakistan    23\n",
       "1        2   Sameer       Numpy  Online  Pakistan    22\n",
       "2        3   Hammad      Pandas  Onsite  Pakistan    20\n",
       "3        4    Bilal  Matplotlib  Online  Pakistan    23\n",
       "4        5      Ali     Seaborn  Onsite  Pakistan    42\n",
       "5        6   Muavia  Tensorflow  Onsite  Pakistan    45\n",
       "6        7    Ypusf     Apachli  Online  Pakistan    12\n",
       "7        8     Arif      Python  Onsite  Pakistan    43\n",
       "8        9   Saleem       Numpy  Online  Pakistan    12"
      ]
     },
     "execution_count": 15,
     "metadata": {},
     "output_type": "execute_result"
    }
   ],
   "source": [
    "df['Ages'] = [23,22,20,23,42,45,12,43,12]\n",
    "df"
   ]
  },
  {
   "cell_type": "code",
   "execution_count": 17,
   "metadata": {},
   "outputs": [
    {
     "data": {
      "text/html": [
       "<div>\n",
       "<style scoped>\n",
       "    .dataframe tbody tr th:only-of-type {\n",
       "        vertical-align: middle;\n",
       "    }\n",
       "\n",
       "    .dataframe tbody tr th {\n",
       "        vertical-align: top;\n",
       "    }\n",
       "\n",
       "    .dataframe thead th {\n",
       "        text-align: right;\n",
       "    }\n",
       "</style>\n",
       "<table border=\"1\" class=\"dataframe\">\n",
       "  <thead>\n",
       "    <tr style=\"text-align: right;\">\n",
       "      <th></th>\n",
       "      <th>Roll no</th>\n",
       "      <th>Name</th>\n",
       "      <th>Subject</th>\n",
       "      <th>Mode</th>\n",
       "      <th>Country</th>\n",
       "      <th>Ages</th>\n",
       "      <th>Status</th>\n",
       "    </tr>\n",
       "  </thead>\n",
       "  <tbody>\n",
       "    <tr>\n",
       "      <td>0</td>\n",
       "      <td>1</td>\n",
       "      <td>Alameen</td>\n",
       "      <td>Python</td>\n",
       "      <td>Online</td>\n",
       "      <td>Pakistan</td>\n",
       "      <td>23</td>\n",
       "      <td>Pass</td>\n",
       "    </tr>\n",
       "    <tr>\n",
       "      <td>1</td>\n",
       "      <td>2</td>\n",
       "      <td>Sameer</td>\n",
       "      <td>Numpy</td>\n",
       "      <td>Online</td>\n",
       "      <td>Pakistan</td>\n",
       "      <td>22</td>\n",
       "      <td>Fail</td>\n",
       "    </tr>\n",
       "    <tr>\n",
       "      <td>2</td>\n",
       "      <td>3</td>\n",
       "      <td>Hammad</td>\n",
       "      <td>Pandas</td>\n",
       "      <td>Onsite</td>\n",
       "      <td>Pakistan</td>\n",
       "      <td>20</td>\n",
       "      <td>Fail</td>\n",
       "    </tr>\n",
       "    <tr>\n",
       "      <td>3</td>\n",
       "      <td>4</td>\n",
       "      <td>Bilal</td>\n",
       "      <td>Matplotlib</td>\n",
       "      <td>Online</td>\n",
       "      <td>Pakistan</td>\n",
       "      <td>23</td>\n",
       "      <td>Pass</td>\n",
       "    </tr>\n",
       "    <tr>\n",
       "      <td>4</td>\n",
       "      <td>5</td>\n",
       "      <td>Ali</td>\n",
       "      <td>Seaborn</td>\n",
       "      <td>Onsite</td>\n",
       "      <td>Pakistan</td>\n",
       "      <td>42</td>\n",
       "      <td>Pass</td>\n",
       "    </tr>\n",
       "    <tr>\n",
       "      <td>5</td>\n",
       "      <td>6</td>\n",
       "      <td>Muavia</td>\n",
       "      <td>Tensorflow</td>\n",
       "      <td>Onsite</td>\n",
       "      <td>Pakistan</td>\n",
       "      <td>45</td>\n",
       "      <td>Pass</td>\n",
       "    </tr>\n",
       "    <tr>\n",
       "      <td>6</td>\n",
       "      <td>7</td>\n",
       "      <td>Ypusf</td>\n",
       "      <td>Apachli</td>\n",
       "      <td>Online</td>\n",
       "      <td>Pakistan</td>\n",
       "      <td>12</td>\n",
       "      <td>Fail</td>\n",
       "    </tr>\n",
       "    <tr>\n",
       "      <td>7</td>\n",
       "      <td>8</td>\n",
       "      <td>Arif</td>\n",
       "      <td>Python</td>\n",
       "      <td>Onsite</td>\n",
       "      <td>Pakistan</td>\n",
       "      <td>43</td>\n",
       "      <td>Pass</td>\n",
       "    </tr>\n",
       "    <tr>\n",
       "      <td>8</td>\n",
       "      <td>9</td>\n",
       "      <td>Saleem</td>\n",
       "      <td>Numpy</td>\n",
       "      <td>Online</td>\n",
       "      <td>Pakistan</td>\n",
       "      <td>12</td>\n",
       "      <td>Fail</td>\n",
       "    </tr>\n",
       "  </tbody>\n",
       "</table>\n",
       "</div>"
      ],
      "text/plain": [
       "   Roll no     Name     Subject    Mode   Country  Ages Status\n",
       "0        1  Alameen      Python  Online  Pakistan    23   Pass\n",
       "1        2   Sameer       Numpy  Online  Pakistan    22   Fail\n",
       "2        3   Hammad      Pandas  Onsite  Pakistan    20   Fail\n",
       "3        4    Bilal  Matplotlib  Online  Pakistan    23   Pass\n",
       "4        5      Ali     Seaborn  Onsite  Pakistan    42   Pass\n",
       "5        6   Muavia  Tensorflow  Onsite  Pakistan    45   Pass\n",
       "6        7    Ypusf     Apachli  Online  Pakistan    12   Fail\n",
       "7        8     Arif      Python  Onsite  Pakistan    43   Pass\n",
       "8        9   Saleem       Numpy  Online  Pakistan    12   Fail"
      ]
     },
     "execution_count": 17,
     "metadata": {},
     "output_type": "execute_result"
    }
   ],
   "source": [
    "# list comprehension method\n",
    "df['Status'] = ['Pass' if x > 22 else 'Fail' for x in df['Ages']]\n",
    "df"
   ]
  },
  {
   "cell_type": "code",
   "execution_count": 21,
   "metadata": {},
   "outputs": [
    {
     "data": {
      "text/html": [
       "<div>\n",
       "<style scoped>\n",
       "    .dataframe tbody tr th:only-of-type {\n",
       "        vertical-align: middle;\n",
       "    }\n",
       "\n",
       "    .dataframe tbody tr th {\n",
       "        vertical-align: top;\n",
       "    }\n",
       "\n",
       "    .dataframe thead th {\n",
       "        text-align: right;\n",
       "    }\n",
       "</style>\n",
       "<table border=\"1\" class=\"dataframe\">\n",
       "  <thead>\n",
       "    <tr style=\"text-align: right;\">\n",
       "      <th></th>\n",
       "      <th>Roll no</th>\n",
       "      <th>Name</th>\n",
       "      <th>Subject</th>\n",
       "      <th>Mode</th>\n",
       "      <th>Country</th>\n",
       "      <th>Ages</th>\n",
       "      <th>Status</th>\n",
       "      <th>City</th>\n",
       "    </tr>\n",
       "  </thead>\n",
       "  <tbody>\n",
       "    <tr>\n",
       "      <td>0</td>\n",
       "      <td>1</td>\n",
       "      <td>Alameen</td>\n",
       "      <td>Python</td>\n",
       "      <td>Online</td>\n",
       "      <td>Pakistan</td>\n",
       "      <td>23</td>\n",
       "      <td>Pass</td>\n",
       "      <td>OutOfKhi</td>\n",
       "    </tr>\n",
       "    <tr>\n",
       "      <td>1</td>\n",
       "      <td>2</td>\n",
       "      <td>Sameer</td>\n",
       "      <td>Numpy</td>\n",
       "      <td>Online</td>\n",
       "      <td>Pakistan</td>\n",
       "      <td>22</td>\n",
       "      <td>Fail</td>\n",
       "      <td>OutOfKhi</td>\n",
       "    </tr>\n",
       "    <tr>\n",
       "      <td>2</td>\n",
       "      <td>3</td>\n",
       "      <td>Hammad</td>\n",
       "      <td>Pandas</td>\n",
       "      <td>Onsite</td>\n",
       "      <td>Pakistan</td>\n",
       "      <td>20</td>\n",
       "      <td>Fail</td>\n",
       "      <td>Karachi</td>\n",
       "    </tr>\n",
       "    <tr>\n",
       "      <td>3</td>\n",
       "      <td>4</td>\n",
       "      <td>Bilal</td>\n",
       "      <td>Matplotlib</td>\n",
       "      <td>Online</td>\n",
       "      <td>Pakistan</td>\n",
       "      <td>23</td>\n",
       "      <td>Pass</td>\n",
       "      <td>OutOfKhi</td>\n",
       "    </tr>\n",
       "    <tr>\n",
       "      <td>4</td>\n",
       "      <td>5</td>\n",
       "      <td>Ali</td>\n",
       "      <td>Seaborn</td>\n",
       "      <td>Onsite</td>\n",
       "      <td>Pakistan</td>\n",
       "      <td>42</td>\n",
       "      <td>Pass</td>\n",
       "      <td>Karachi</td>\n",
       "    </tr>\n",
       "    <tr>\n",
       "      <td>5</td>\n",
       "      <td>6</td>\n",
       "      <td>Muavia</td>\n",
       "      <td>Tensorflow</td>\n",
       "      <td>Onsite</td>\n",
       "      <td>Pakistan</td>\n",
       "      <td>45</td>\n",
       "      <td>Pass</td>\n",
       "      <td>Karachi</td>\n",
       "    </tr>\n",
       "    <tr>\n",
       "      <td>6</td>\n",
       "      <td>7</td>\n",
       "      <td>Ypusf</td>\n",
       "      <td>Apachli</td>\n",
       "      <td>Online</td>\n",
       "      <td>Pakistan</td>\n",
       "      <td>12</td>\n",
       "      <td>Fail</td>\n",
       "      <td>OutOfKhi</td>\n",
       "    </tr>\n",
       "    <tr>\n",
       "      <td>7</td>\n",
       "      <td>8</td>\n",
       "      <td>Arif</td>\n",
       "      <td>Python</td>\n",
       "      <td>Onsite</td>\n",
       "      <td>Pakistan</td>\n",
       "      <td>43</td>\n",
       "      <td>Pass</td>\n",
       "      <td>Karachi</td>\n",
       "    </tr>\n",
       "    <tr>\n",
       "      <td>8</td>\n",
       "      <td>9</td>\n",
       "      <td>Saleem</td>\n",
       "      <td>Numpy</td>\n",
       "      <td>Online</td>\n",
       "      <td>Pakistan</td>\n",
       "      <td>12</td>\n",
       "      <td>Fail</td>\n",
       "      <td>OutOfKhi</td>\n",
       "    </tr>\n",
       "  </tbody>\n",
       "</table>\n",
       "</div>"
      ],
      "text/plain": [
       "   Roll no     Name     Subject    Mode   Country  Ages Status      City\n",
       "0        1  Alameen      Python  Online  Pakistan    23   Pass  OutOfKhi\n",
       "1        2   Sameer       Numpy  Online  Pakistan    22   Fail  OutOfKhi\n",
       "2        3   Hammad      Pandas  Onsite  Pakistan    20   Fail   Karachi\n",
       "3        4    Bilal  Matplotlib  Online  Pakistan    23   Pass  OutOfKhi\n",
       "4        5      Ali     Seaborn  Onsite  Pakistan    42   Pass   Karachi\n",
       "5        6   Muavia  Tensorflow  Onsite  Pakistan    45   Pass   Karachi\n",
       "6        7    Ypusf     Apachli  Online  Pakistan    12   Fail  OutOfKhi\n",
       "7        8     Arif      Python  Onsite  Pakistan    43   Pass   Karachi\n",
       "8        9   Saleem       Numpy  Online  Pakistan    12   Fail  OutOfKhi"
      ]
     },
     "execution_count": 21,
     "metadata": {},
     "output_type": "execute_result"
    }
   ],
   "source": [
    "df['City'] = df.Mode.apply(lambda x: 'OutOfKhi' if x == 'Online' else 'Karachi')\n",
    "df"
   ]
  },
  {
   "cell_type": "code",
   "execution_count": 22,
   "metadata": {},
   "outputs": [],
   "source": [
    "dic = {'Alameen' : 20,'Sameer': 21,'Ali':32,'Arif':12,'Saleem':30,'Hammad':23,'Bilal': 29,'Ypusf': 14,'Muavia': 32}"
   ]
  },
  {
   "cell_type": "code",
   "execution_count": 26,
   "metadata": {},
   "outputs": [
    {
     "data": {
      "text/html": [
       "<div>\n",
       "<style scoped>\n",
       "    .dataframe tbody tr th:only-of-type {\n",
       "        vertical-align: middle;\n",
       "    }\n",
       "\n",
       "    .dataframe tbody tr th {\n",
       "        vertical-align: top;\n",
       "    }\n",
       "\n",
       "    .dataframe thead th {\n",
       "        text-align: right;\n",
       "    }\n",
       "</style>\n",
       "<table border=\"1\" class=\"dataframe\">\n",
       "  <thead>\n",
       "    <tr style=\"text-align: right;\">\n",
       "      <th></th>\n",
       "      <th>Roll no</th>\n",
       "      <th>Name</th>\n",
       "      <th>Subject</th>\n",
       "      <th>Mode</th>\n",
       "      <th>Country</th>\n",
       "      <th>Ages</th>\n",
       "      <th>Status</th>\n",
       "      <th>City</th>\n",
       "      <th>NewAges</th>\n",
       "    </tr>\n",
       "  </thead>\n",
       "  <tbody>\n",
       "    <tr>\n",
       "      <td>0</td>\n",
       "      <td>1</td>\n",
       "      <td>Alameen</td>\n",
       "      <td>Python</td>\n",
       "      <td>Online</td>\n",
       "      <td>Pakistan</td>\n",
       "      <td>23</td>\n",
       "      <td>Pass</td>\n",
       "      <td>OutOfKhi</td>\n",
       "      <td>20</td>\n",
       "    </tr>\n",
       "    <tr>\n",
       "      <td>1</td>\n",
       "      <td>2</td>\n",
       "      <td>Sameer</td>\n",
       "      <td>Numpy</td>\n",
       "      <td>Online</td>\n",
       "      <td>Pakistan</td>\n",
       "      <td>22</td>\n",
       "      <td>Fail</td>\n",
       "      <td>OutOfKhi</td>\n",
       "      <td>21</td>\n",
       "    </tr>\n",
       "    <tr>\n",
       "      <td>2</td>\n",
       "      <td>3</td>\n",
       "      <td>Hammad</td>\n",
       "      <td>Pandas</td>\n",
       "      <td>Onsite</td>\n",
       "      <td>Pakistan</td>\n",
       "      <td>20</td>\n",
       "      <td>Fail</td>\n",
       "      <td>Karachi</td>\n",
       "      <td>23</td>\n",
       "    </tr>\n",
       "    <tr>\n",
       "      <td>3</td>\n",
       "      <td>4</td>\n",
       "      <td>Bilal</td>\n",
       "      <td>Matplotlib</td>\n",
       "      <td>Online</td>\n",
       "      <td>Pakistan</td>\n",
       "      <td>23</td>\n",
       "      <td>Pass</td>\n",
       "      <td>OutOfKhi</td>\n",
       "      <td>29</td>\n",
       "    </tr>\n",
       "    <tr>\n",
       "      <td>4</td>\n",
       "      <td>5</td>\n",
       "      <td>Ali</td>\n",
       "      <td>Seaborn</td>\n",
       "      <td>Onsite</td>\n",
       "      <td>Pakistan</td>\n",
       "      <td>42</td>\n",
       "      <td>Pass</td>\n",
       "      <td>Karachi</td>\n",
       "      <td>32</td>\n",
       "    </tr>\n",
       "    <tr>\n",
       "      <td>5</td>\n",
       "      <td>6</td>\n",
       "      <td>Muavia</td>\n",
       "      <td>Tensorflow</td>\n",
       "      <td>Onsite</td>\n",
       "      <td>Pakistan</td>\n",
       "      <td>45</td>\n",
       "      <td>Pass</td>\n",
       "      <td>Karachi</td>\n",
       "      <td>32</td>\n",
       "    </tr>\n",
       "    <tr>\n",
       "      <td>6</td>\n",
       "      <td>7</td>\n",
       "      <td>Ypusf</td>\n",
       "      <td>Apachli</td>\n",
       "      <td>Online</td>\n",
       "      <td>Pakistan</td>\n",
       "      <td>12</td>\n",
       "      <td>Fail</td>\n",
       "      <td>OutOfKhi</td>\n",
       "      <td>14</td>\n",
       "    </tr>\n",
       "    <tr>\n",
       "      <td>7</td>\n",
       "      <td>8</td>\n",
       "      <td>Arif</td>\n",
       "      <td>Python</td>\n",
       "      <td>Onsite</td>\n",
       "      <td>Pakistan</td>\n",
       "      <td>43</td>\n",
       "      <td>Pass</td>\n",
       "      <td>Karachi</td>\n",
       "      <td>12</td>\n",
       "    </tr>\n",
       "    <tr>\n",
       "      <td>8</td>\n",
       "      <td>9</td>\n",
       "      <td>Saleem</td>\n",
       "      <td>Numpy</td>\n",
       "      <td>Online</td>\n",
       "      <td>Pakistan</td>\n",
       "      <td>12</td>\n",
       "      <td>Fail</td>\n",
       "      <td>OutOfKhi</td>\n",
       "      <td>30</td>\n",
       "    </tr>\n",
       "  </tbody>\n",
       "</table>\n",
       "</div>"
      ],
      "text/plain": [
       "   Roll no     Name     Subject    Mode   Country  Ages Status      City  \\\n",
       "0        1  Alameen      Python  Online  Pakistan    23   Pass  OutOfKhi   \n",
       "1        2   Sameer       Numpy  Online  Pakistan    22   Fail  OutOfKhi   \n",
       "2        3   Hammad      Pandas  Onsite  Pakistan    20   Fail   Karachi   \n",
       "3        4    Bilal  Matplotlib  Online  Pakistan    23   Pass  OutOfKhi   \n",
       "4        5      Ali     Seaborn  Onsite  Pakistan    42   Pass   Karachi   \n",
       "5        6   Muavia  Tensorflow  Onsite  Pakistan    45   Pass   Karachi   \n",
       "6        7    Ypusf     Apachli  Online  Pakistan    12   Fail  OutOfKhi   \n",
       "7        8     Arif      Python  Onsite  Pakistan    43   Pass   Karachi   \n",
       "8        9   Saleem       Numpy  Online  Pakistan    12   Fail  OutOfKhi   \n",
       "\n",
       "   NewAges  \n",
       "0       20  \n",
       "1       21  \n",
       "2       23  \n",
       "3       29  \n",
       "4       32  \n",
       "5       32  \n",
       "6       14  \n",
       "7       12  \n",
       "8       30  "
      ]
     },
     "execution_count": 26,
     "metadata": {},
     "output_type": "execute_result"
    }
   ],
   "source": [
    "df['NewAges'] = df.Name.map(dic)\n",
    "df"
   ]
  }
 ],
 "metadata": {
  "kernelspec": {
   "display_name": "Python 3",
   "language": "python",
   "name": "python3"
  },
  "language_info": {
   "codemirror_mode": {
    "name": "ipython",
    "version": 3
   },
   "file_extension": ".py",
   "mimetype": "text/x-python",
   "name": "python",
   "nbconvert_exporter": "python",
   "pygments_lexer": "ipython3",
   "version": "3.7.4"
  }
 },
 "nbformat": 4,
 "nbformat_minor": 2
}
